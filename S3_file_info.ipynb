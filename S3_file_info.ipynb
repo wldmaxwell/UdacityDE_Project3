{
 "cells": [
  {
   "cell_type": "code",
   "execution_count": 60,
   "metadata": {},
   "outputs": [],
   "source": [
    "import pandas as pd\n",
    "import boto3\n",
    "import configparser"
   ]
  },
  {
   "cell_type": "code",
   "execution_count": 61,
   "metadata": {},
   "outputs": [],
   "source": [
    "config = configparser.ConfigParser()\n",
    "config.read_file(open('dwh.cfg'))\n",
    "KEY=config.get('AWS','key')\n",
    "SECRET= config.get('AWS','secret')"
   ]
  },
  {
   "cell_type": "code",
   "execution_count": 62,
   "metadata": {},
   "outputs": [],
   "source": [
    "client = boto3.client(\n",
    "    's3',\n",
    "    aws_access_key_id = KEY,\n",
    "    aws_secret_access_key = SECRET,\n",
    "    region_name = 'us-west-2'\n",
    ")\n",
    "\n",
    "s3 =  boto3.resource('s3',\n",
    "                    region_name = 'us-west-2',\n",
    "                    aws_access_key_id = KEY,\n",
    "                    aws_secret_access_key = SECRET\n",
    "                    )\n",
    "\n",
    "sampleDbBucket =  s3.Bucket(\"udacity-dend\")"
   ]
  },
  {
   "cell_type": "code",
   "execution_count": 68,
   "metadata": {},
   "outputs": [
    {
     "data": {
      "text/plain": [
       "s3.Bucket.objectsCollection(s3.Bucket(name='udacity-dend'), s3.ObjectSummary)"
      ]
     },
     "execution_count": 68,
     "metadata": {},
     "output_type": "execute_result"
    }
   ],
   "source": [
    "sampleDbBucket.objects.filter(Prefix=\"log_data\")"
   ]
  },
  {
   "cell_type": "code",
   "execution_count": 73,
   "metadata": {},
   "outputs": [
    {
     "name": "stdout",
     "output_type": "stream",
     "text": [
      "The log_data size: 31\n",
      "The song_data size: 14897\n"
     ]
    }
   ],
   "source": [
    "log_size = sum(1 for _ in sampleDbBucket.objects.filter(Prefix=\"log_data\"))\n",
    "song_size = sum(1 for _ in sampleDbBucket.objects.filter(Prefix=\"song_data\"))\n",
    "print(f\"The log_data size: {log_size}\")\n",
    "print(f\"The song_data size: {song_size}\")"
   ]
  },
  {
   "cell_type": "code",
   "execution_count": 65,
   "metadata": {},
   "outputs": [
    {
     "name": "stdout",
     "output_type": "stream",
     "text": [
      "s3.ObjectSummary(bucket_name='udacity-dend', key='log_data/')\n",
      "s3.ObjectSummary(bucket_name='udacity-dend', key='log_data/2018/11/2018-11-01-events.json')\n",
      "s3.ObjectSummary(bucket_name='udacity-dend', key='log_data/2018/11/2018-11-02-events.json')\n",
      "s3.ObjectSummary(bucket_name='udacity-dend', key='log_data/2018/11/2018-11-03-events.json')\n",
      "s3.ObjectSummary(bucket_name='udacity-dend', key='log_data/2018/11/2018-11-04-events.json')\n",
      "s3.ObjectSummary(bucket_name='udacity-dend', key='log_data/2018/11/2018-11-05-events.json')\n",
      "s3.ObjectSummary(bucket_name='udacity-dend', key='log_data/2018/11/2018-11-06-events.json')\n",
      "s3.ObjectSummary(bucket_name='udacity-dend', key='log_data/2018/11/2018-11-07-events.json')\n",
      "s3.ObjectSummary(bucket_name='udacity-dend', key='log_data/2018/11/2018-11-08-events.json')\n",
      "s3.ObjectSummary(bucket_name='udacity-dend', key='log_data/2018/11/2018-11-09-events.json')\n",
      "s3.ObjectSummary(bucket_name='udacity-dend', key='log_data/2018/11/2018-11-10-events.json')\n",
      "s3.ObjectSummary(bucket_name='udacity-dend', key='log_data/2018/11/2018-11-11-events.json')\n",
      "s3.ObjectSummary(bucket_name='udacity-dend', key='log_data/2018/11/2018-11-12-events.json')\n",
      "s3.ObjectSummary(bucket_name='udacity-dend', key='log_data/2018/11/2018-11-13-events.json')\n",
      "s3.ObjectSummary(bucket_name='udacity-dend', key='log_data/2018/11/2018-11-14-events.json')\n",
      "s3.ObjectSummary(bucket_name='udacity-dend', key='log_data/2018/11/2018-11-15-events.json')\n",
      "s3.ObjectSummary(bucket_name='udacity-dend', key='log_data/2018/11/2018-11-16-events.json')\n",
      "s3.ObjectSummary(bucket_name='udacity-dend', key='log_data/2018/11/2018-11-17-events.json')\n",
      "s3.ObjectSummary(bucket_name='udacity-dend', key='log_data/2018/11/2018-11-18-events.json')\n",
      "s3.ObjectSummary(bucket_name='udacity-dend', key='log_data/2018/11/2018-11-19-events.json')\n",
      "s3.ObjectSummary(bucket_name='udacity-dend', key='log_data/2018/11/2018-11-20-events.json')\n",
      "s3.ObjectSummary(bucket_name='udacity-dend', key='log_data/2018/11/2018-11-21-events.json')\n",
      "s3.ObjectSummary(bucket_name='udacity-dend', key='log_data/2018/11/2018-11-22-events.json')\n",
      "s3.ObjectSummary(bucket_name='udacity-dend', key='log_data/2018/11/2018-11-23-events.json')\n",
      "s3.ObjectSummary(bucket_name='udacity-dend', key='log_data/2018/11/2018-11-24-events.json')\n",
      "s3.ObjectSummary(bucket_name='udacity-dend', key='log_data/2018/11/2018-11-25-events.json')\n",
      "s3.ObjectSummary(bucket_name='udacity-dend', key='log_data/2018/11/2018-11-26-events.json')\n",
      "s3.ObjectSummary(bucket_name='udacity-dend', key='log_data/2018/11/2018-11-27-events.json')\n",
      "s3.ObjectSummary(bucket_name='udacity-dend', key='log_data/2018/11/2018-11-28-events.json')\n",
      "s3.ObjectSummary(bucket_name='udacity-dend', key='log_data/2018/11/2018-11-29-events.json')\n",
      "s3.ObjectSummary(bucket_name='udacity-dend', key='log_data/2018/11/2018-11-30-events.json')\n"
     ]
    }
   ],
   "source": [
    "for obj in sampleDbBucket.objects.filter(Prefix=\"log_data\"):\n",
    "    print(obj)"
   ]
  },
  {
   "cell_type": "code",
   "execution_count": 50,
   "metadata": {},
   "outputs": [
    {
     "name": "stdout",
     "output_type": "stream",
     "text": [
      "Printing the data frame...\n",
      "                        artist       auth firstName gender  itemInSession  \\\n",
      "0    N.E.R.D. FEATURING MALICE  Logged In    Jayden      M              0   \n",
      "1                         None  Logged In   Stefany      F              0   \n",
      "2          Death Cab for Cutie  Logged In   Stefany      F              1   \n",
      "3             Tracy Gang Pussy  Logged In   Stefany      F              2   \n",
      "4                      Skillet  Logged In     Kevin      M              0   \n",
      "..                         ...        ...       ...    ...            ...   \n",
      "166                    OutKast  Logged In    Ayleen      F              3   \n",
      "167            Bloodhound Gang  Logged In     Kaleb      M              0   \n",
      "168                  Rammstein  Logged In     Isaac      M              0   \n",
      "169           Gershon Kingsley  Logged In     Isaac      M              1   \n",
      "170                  The Rakes  Logged In     Isaac      M              2   \n",
      "\n",
      "     lastName     length level                  location method      page  \\\n",
      "0         Fox  288.99220  free  New Orleans-Metairie, LA    PUT  NextSong   \n",
      "1       White        NaN  free               Lubbock, TX    GET      Home   \n",
      "2       White  216.42404  free               Lubbock, TX    PUT  NextSong   \n",
      "3       White  221.33506  free               Lubbock, TX    PUT  NextSong   \n",
      "4    Arellano  178.02404  free   Harrisburg-Carlisle, PA    PUT  NextSong   \n",
      "..        ...        ...   ...                       ...    ...       ...   \n",
      "166      Wise  227.52608  free              Columbia, SC    PUT  NextSong   \n",
      "167      Cook  260.20526  free             Yuba City, CA    PUT  NextSong   \n",
      "168    Valdez  228.46649  free               Saginaw, MI    PUT  NextSong   \n",
      "169    Valdez  146.57261  free               Saginaw, MI    PUT  NextSong   \n",
      "170    Valdez  150.59546  free               Saginaw, MI    PUT  NextSong   \n",
      "\n",
      "      registration  sessionId                             song  status  \\\n",
      "0    1541033612796        184         Am I High (Feat. Malice)     200   \n",
      "1    1540708070796         82                             None     200   \n",
      "2    1540708070796         82  A Lack Of Color (Album Version)     200   \n",
      "3    1540708070796         82                    I Have A Wish     200   \n",
      "4    1540006905796        153          Monster (Album Version)     200   \n",
      "..             ...        ...                              ...     ...   \n",
      "166  1541085793796         70                      Ova Da Wudz     200   \n",
      "167  1540679673796         53       Uhn Tiss Uhn Tiss Uhn Tiss     200   \n",
      "168  1541078099796        112                            Adios     200   \n",
      "169  1541078099796        112                         Pop Corn     200   \n",
      "170  1541078099796        112                       Strasbourg     200   \n",
      "\n",
      "                ts                                          userAgent  userId  \n",
      "0    1541121934796  \"Mozilla/5.0 (Windows NT 6.3; WOW64) AppleWebK...     101  \n",
      "1    1541122176796  \"Mozilla/5.0 (Macintosh; Intel Mac OS X 10_9_4...      83  \n",
      "2    1541122241796  \"Mozilla/5.0 (Macintosh; Intel Mac OS X 10_9_4...      83  \n",
      "3    1541122457796  \"Mozilla/5.0 (Macintosh; Intel Mac OS X 10_9_4...      83  \n",
      "4    1541126568796  \"Mozilla/5.0 (Macintosh; Intel Mac OS X 10_9_4...      66  \n",
      "..             ...                                                ...     ...  \n",
      "166  1541184339796  \"Mozilla/5.0 (iPhone; CPU iPhone OS 7_1_1 like...      71  \n",
      "167  1541187675796  Mozilla/5.0 (Windows NT 6.1; WOW64; rv:31.0) G...      54  \n",
      "168  1541191023796  Mozilla/5.0 (Windows NT 6.1; WOW64; rv:31.0) G...       3  \n",
      "169  1541191251796  Mozilla/5.0 (Windows NT 6.1; WOW64; rv:31.0) G...       3  \n",
      "170  1541191397796  Mozilla/5.0 (Windows NT 6.1; WOW64; rv:31.0) G...       3  \n",
      "\n",
      "[171 rows x 18 columns]\n"
     ]
    }
   ],
   "source": [
    "log_obj = client.get_object(\n",
    "    Bucket = 'udacity-dend',\n",
    "    Key = 'log_data/2018/11/2018-11-02-events.json'\n",
    ")\n",
    "\n",
    "log_df = pd.read_json(log_obj['Body'], lines = True)\n",
    "\n",
    "print('Printing the data frame...')\n",
    "print(log_df)"
   ]
  },
  {
   "cell_type": "code",
   "execution_count": 52,
   "metadata": {},
   "outputs": [
    {
     "data": {
      "text/html": [
       "<div>\n",
       "<style scoped>\n",
       "    .dataframe tbody tr th:only-of-type {\n",
       "        vertical-align: middle;\n",
       "    }\n",
       "\n",
       "    .dataframe tbody tr th {\n",
       "        vertical-align: top;\n",
       "    }\n",
       "\n",
       "    .dataframe thead th {\n",
       "        text-align: right;\n",
       "    }\n",
       "</style>\n",
       "<table border=\"1\" class=\"dataframe\">\n",
       "  <thead>\n",
       "    <tr style=\"text-align: right;\">\n",
       "      <th></th>\n",
       "      <th>artist</th>\n",
       "      <th>auth</th>\n",
       "      <th>firstName</th>\n",
       "      <th>gender</th>\n",
       "      <th>itemInSession</th>\n",
       "      <th>lastName</th>\n",
       "      <th>length</th>\n",
       "      <th>level</th>\n",
       "      <th>location</th>\n",
       "      <th>method</th>\n",
       "      <th>page</th>\n",
       "      <th>registration</th>\n",
       "      <th>sessionId</th>\n",
       "      <th>song</th>\n",
       "      <th>status</th>\n",
       "      <th>ts</th>\n",
       "      <th>userAgent</th>\n",
       "      <th>userId</th>\n",
       "    </tr>\n",
       "  </thead>\n",
       "  <tbody>\n",
       "    <tr>\n",
       "      <th>0</th>\n",
       "      <td>N.E.R.D. FEATURING MALICE</td>\n",
       "      <td>Logged In</td>\n",
       "      <td>Jayden</td>\n",
       "      <td>M</td>\n",
       "      <td>0</td>\n",
       "      <td>Fox</td>\n",
       "      <td>288.99220</td>\n",
       "      <td>free</td>\n",
       "      <td>New Orleans-Metairie, LA</td>\n",
       "      <td>PUT</td>\n",
       "      <td>NextSong</td>\n",
       "      <td>1541033612796</td>\n",
       "      <td>184</td>\n",
       "      <td>Am I High (Feat. Malice)</td>\n",
       "      <td>200</td>\n",
       "      <td>1541121934796</td>\n",
       "      <td>\"Mozilla/5.0 (Windows NT 6.3; WOW64) AppleWebK...</td>\n",
       "      <td>101</td>\n",
       "    </tr>\n",
       "    <tr>\n",
       "      <th>1</th>\n",
       "      <td>None</td>\n",
       "      <td>Logged In</td>\n",
       "      <td>Stefany</td>\n",
       "      <td>F</td>\n",
       "      <td>0</td>\n",
       "      <td>White</td>\n",
       "      <td>NaN</td>\n",
       "      <td>free</td>\n",
       "      <td>Lubbock, TX</td>\n",
       "      <td>GET</td>\n",
       "      <td>Home</td>\n",
       "      <td>1540708070796</td>\n",
       "      <td>82</td>\n",
       "      <td>None</td>\n",
       "      <td>200</td>\n",
       "      <td>1541122176796</td>\n",
       "      <td>\"Mozilla/5.0 (Macintosh; Intel Mac OS X 10_9_4...</td>\n",
       "      <td>83</td>\n",
       "    </tr>\n",
       "    <tr>\n",
       "      <th>2</th>\n",
       "      <td>Death Cab for Cutie</td>\n",
       "      <td>Logged In</td>\n",
       "      <td>Stefany</td>\n",
       "      <td>F</td>\n",
       "      <td>1</td>\n",
       "      <td>White</td>\n",
       "      <td>216.42404</td>\n",
       "      <td>free</td>\n",
       "      <td>Lubbock, TX</td>\n",
       "      <td>PUT</td>\n",
       "      <td>NextSong</td>\n",
       "      <td>1540708070796</td>\n",
       "      <td>82</td>\n",
       "      <td>A Lack Of Color (Album Version)</td>\n",
       "      <td>200</td>\n",
       "      <td>1541122241796</td>\n",
       "      <td>\"Mozilla/5.0 (Macintosh; Intel Mac OS X 10_9_4...</td>\n",
       "      <td>83</td>\n",
       "    </tr>\n",
       "    <tr>\n",
       "      <th>3</th>\n",
       "      <td>Tracy Gang Pussy</td>\n",
       "      <td>Logged In</td>\n",
       "      <td>Stefany</td>\n",
       "      <td>F</td>\n",
       "      <td>2</td>\n",
       "      <td>White</td>\n",
       "      <td>221.33506</td>\n",
       "      <td>free</td>\n",
       "      <td>Lubbock, TX</td>\n",
       "      <td>PUT</td>\n",
       "      <td>NextSong</td>\n",
       "      <td>1540708070796</td>\n",
       "      <td>82</td>\n",
       "      <td>I Have A Wish</td>\n",
       "      <td>200</td>\n",
       "      <td>1541122457796</td>\n",
       "      <td>\"Mozilla/5.0 (Macintosh; Intel Mac OS X 10_9_4...</td>\n",
       "      <td>83</td>\n",
       "    </tr>\n",
       "    <tr>\n",
       "      <th>4</th>\n",
       "      <td>Skillet</td>\n",
       "      <td>Logged In</td>\n",
       "      <td>Kevin</td>\n",
       "      <td>M</td>\n",
       "      <td>0</td>\n",
       "      <td>Arellano</td>\n",
       "      <td>178.02404</td>\n",
       "      <td>free</td>\n",
       "      <td>Harrisburg-Carlisle, PA</td>\n",
       "      <td>PUT</td>\n",
       "      <td>NextSong</td>\n",
       "      <td>1540006905796</td>\n",
       "      <td>153</td>\n",
       "      <td>Monster (Album Version)</td>\n",
       "      <td>200</td>\n",
       "      <td>1541126568796</td>\n",
       "      <td>\"Mozilla/5.0 (Macintosh; Intel Mac OS X 10_9_4...</td>\n",
       "      <td>66</td>\n",
       "    </tr>\n",
       "  </tbody>\n",
       "</table>\n",
       "</div>"
      ],
      "text/plain": [
       "                      artist       auth firstName gender  itemInSession  \\\n",
       "0  N.E.R.D. FEATURING MALICE  Logged In    Jayden      M              0   \n",
       "1                       None  Logged In   Stefany      F              0   \n",
       "2        Death Cab for Cutie  Logged In   Stefany      F              1   \n",
       "3           Tracy Gang Pussy  Logged In   Stefany      F              2   \n",
       "4                    Skillet  Logged In     Kevin      M              0   \n",
       "\n",
       "   lastName     length level                  location method      page  \\\n",
       "0       Fox  288.99220  free  New Orleans-Metairie, LA    PUT  NextSong   \n",
       "1     White        NaN  free               Lubbock, TX    GET      Home   \n",
       "2     White  216.42404  free               Lubbock, TX    PUT  NextSong   \n",
       "3     White  221.33506  free               Lubbock, TX    PUT  NextSong   \n",
       "4  Arellano  178.02404  free   Harrisburg-Carlisle, PA    PUT  NextSong   \n",
       "\n",
       "    registration  sessionId                             song  status  \\\n",
       "0  1541033612796        184         Am I High (Feat. Malice)     200   \n",
       "1  1540708070796         82                             None     200   \n",
       "2  1540708070796         82  A Lack Of Color (Album Version)     200   \n",
       "3  1540708070796         82                    I Have A Wish     200   \n",
       "4  1540006905796        153          Monster (Album Version)     200   \n",
       "\n",
       "              ts                                          userAgent  userId  \n",
       "0  1541121934796  \"Mozilla/5.0 (Windows NT 6.3; WOW64) AppleWebK...     101  \n",
       "1  1541122176796  \"Mozilla/5.0 (Macintosh; Intel Mac OS X 10_9_4...      83  \n",
       "2  1541122241796  \"Mozilla/5.0 (Macintosh; Intel Mac OS X 10_9_4...      83  \n",
       "3  1541122457796  \"Mozilla/5.0 (Macintosh; Intel Mac OS X 10_9_4...      83  \n",
       "4  1541126568796  \"Mozilla/5.0 (Macintosh; Intel Mac OS X 10_9_4...      66  "
      ]
     },
     "execution_count": 52,
     "metadata": {},
     "output_type": "execute_result"
    }
   ],
   "source": [
    "log_df.head()"
   ]
  },
  {
   "cell_type": "code",
   "execution_count": 51,
   "metadata": {},
   "outputs": [
    {
     "name": "stdout",
     "output_type": "stream",
     "text": [
      "<class 'pandas.core.frame.DataFrame'>\n",
      "RangeIndex: 171 entries, 0 to 170\n",
      "Data columns (total 18 columns):\n",
      " #   Column         Non-Null Count  Dtype  \n",
      "---  ------         --------------  -----  \n",
      " 0   artist         155 non-null    object \n",
      " 1   auth           171 non-null    object \n",
      " 2   firstName      171 non-null    object \n",
      " 3   gender         171 non-null    object \n",
      " 4   itemInSession  171 non-null    int64  \n",
      " 5   lastName       171 non-null    object \n",
      " 6   length         155 non-null    float64\n",
      " 7   level          171 non-null    object \n",
      " 8   location       171 non-null    object \n",
      " 9   method         171 non-null    object \n",
      " 10  page           171 non-null    object \n",
      " 11  registration   171 non-null    int64  \n",
      " 12  sessionId      171 non-null    int64  \n",
      " 13  song           155 non-null    object \n",
      " 14  status         171 non-null    int64  \n",
      " 15  ts             171 non-null    int64  \n",
      " 16  userAgent      171 non-null    object \n",
      " 17  userId         171 non-null    int64  \n",
      "dtypes: float64(1), int64(6), object(11)\n",
      "memory usage: 24.2+ KB\n"
     ]
    }
   ],
   "source": [
    "log_df.info()"
   ]
  },
  {
   "cell_type": "code",
   "execution_count": 55,
   "metadata": {},
   "outputs": [
    {
     "ename": "SyntaxError",
     "evalue": "unexpected EOF while parsing (<ipython-input-55-5235061237dd>, line 2)",
     "output_type": "error",
     "traceback": [
      "\u001b[0;36m  File \u001b[0;32m\"<ipython-input-55-5235061237dd>\"\u001b[0;36m, line \u001b[0;32m2\u001b[0m\n\u001b[0;31m    #print(obj)\u001b[0m\n\u001b[0m               ^\u001b[0m\n\u001b[0;31mSyntaxError\u001b[0m\u001b[0;31m:\u001b[0m unexpected EOF while parsing\n"
     ]
    }
   ],
   "source": [
    "#for obj in sampleDbBucket.objects.filter(Prefix=\"song_data\"):\n",
    "    #print(obj)"
   ]
  },
  {
   "cell_type": "code",
   "execution_count": 56,
   "metadata": {},
   "outputs": [
    {
     "name": "stdout",
     "output_type": "stream",
     "text": [
      "Printing the data frame...\n",
      "            artist_id  artist_latitude artist_location  artist_longitude  \\\n",
      "0  ARJNIUY12298900C91              NaN                               NaN   \n",
      "\n",
      "    artist_name  duration  num_songs             song_id   title  year  \n",
      "0  Adelitas Way  213.9424          1  SOBLFFE12AF72AA5BA  Scream  2009  \n"
     ]
    }
   ],
   "source": [
    "#s3.ObjectSummary(bucket_name='udacity-dend', key='song_data/A/A/A/TRAAAAK128F9318786.json')\n",
    "\n",
    "song_obj = client.get_object(\n",
    "    Bucket = 'udacity-dend',\n",
    "    Key = 'song_data/A/A/A/TRAAAAK128F9318786.json'\n",
    ")\n",
    "\n",
    "song_df = pd.read_json(song_obj['Body'], lines = True)\n",
    "\n",
    "print('Printing the data frame...')\n",
    "print(song_df)"
   ]
  },
  {
   "cell_type": "code",
   "execution_count": 57,
   "metadata": {},
   "outputs": [
    {
     "data": {
      "text/html": [
       "<div>\n",
       "<style scoped>\n",
       "    .dataframe tbody tr th:only-of-type {\n",
       "        vertical-align: middle;\n",
       "    }\n",
       "\n",
       "    .dataframe tbody tr th {\n",
       "        vertical-align: top;\n",
       "    }\n",
       "\n",
       "    .dataframe thead th {\n",
       "        text-align: right;\n",
       "    }\n",
       "</style>\n",
       "<table border=\"1\" class=\"dataframe\">\n",
       "  <thead>\n",
       "    <tr style=\"text-align: right;\">\n",
       "      <th></th>\n",
       "      <th>artist_id</th>\n",
       "      <th>artist_latitude</th>\n",
       "      <th>artist_location</th>\n",
       "      <th>artist_longitude</th>\n",
       "      <th>artist_name</th>\n",
       "      <th>duration</th>\n",
       "      <th>num_songs</th>\n",
       "      <th>song_id</th>\n",
       "      <th>title</th>\n",
       "      <th>year</th>\n",
       "    </tr>\n",
       "  </thead>\n",
       "  <tbody>\n",
       "    <tr>\n",
       "      <th>0</th>\n",
       "      <td>ARJNIUY12298900C91</td>\n",
       "      <td>NaN</td>\n",
       "      <td></td>\n",
       "      <td>NaN</td>\n",
       "      <td>Adelitas Way</td>\n",
       "      <td>213.9424</td>\n",
       "      <td>1</td>\n",
       "      <td>SOBLFFE12AF72AA5BA</td>\n",
       "      <td>Scream</td>\n",
       "      <td>2009</td>\n",
       "    </tr>\n",
       "  </tbody>\n",
       "</table>\n",
       "</div>"
      ],
      "text/plain": [
       "            artist_id  artist_latitude artist_location  artist_longitude  \\\n",
       "0  ARJNIUY12298900C91              NaN                               NaN   \n",
       "\n",
       "    artist_name  duration  num_songs             song_id   title  year  \n",
       "0  Adelitas Way  213.9424          1  SOBLFFE12AF72AA5BA  Scream  2009  "
      ]
     },
     "execution_count": 57,
     "metadata": {},
     "output_type": "execute_result"
    }
   ],
   "source": [
    "song_df.head()"
   ]
  },
  {
   "cell_type": "code",
   "execution_count": 58,
   "metadata": {},
   "outputs": [
    {
     "name": "stdout",
     "output_type": "stream",
     "text": [
      "<class 'pandas.core.frame.DataFrame'>\n",
      "RangeIndex: 1 entries, 0 to 0\n",
      "Data columns (total 10 columns):\n",
      " #   Column            Non-Null Count  Dtype  \n",
      "---  ------            --------------  -----  \n",
      " 0   artist_id         1 non-null      object \n",
      " 1   artist_latitude   0 non-null      float64\n",
      " 2   artist_location   1 non-null      object \n",
      " 3   artist_longitude  0 non-null      float64\n",
      " 4   artist_name       1 non-null      object \n",
      " 5   duration          1 non-null      float64\n",
      " 6   num_songs         1 non-null      int64  \n",
      " 7   song_id           1 non-null      object \n",
      " 8   title             1 non-null      object \n",
      " 9   year              1 non-null      int64  \n",
      "dtypes: float64(3), int64(2), object(5)\n",
      "memory usage: 208.0+ bytes\n"
     ]
    }
   ],
   "source": [
    "song_df.info()"
   ]
  },
  {
   "cell_type": "code",
   "execution_count": null,
   "metadata": {},
   "outputs": [],
   "source": []
  }
 ],
 "metadata": {
  "kernelspec": {
   "display_name": "Python 3",
   "language": "python",
   "name": "python3"
  },
  "language_info": {
   "codemirror_mode": {
    "name": "ipython",
    "version": 3
   },
   "file_extension": ".py",
   "mimetype": "text/x-python",
   "name": "python",
   "nbconvert_exporter": "python",
   "pygments_lexer": "ipython3",
   "version": "3.8.2"
  }
 },
 "nbformat": 4,
 "nbformat_minor": 4
}
