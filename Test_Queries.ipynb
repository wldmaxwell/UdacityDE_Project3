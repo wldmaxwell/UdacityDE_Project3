{
 "cells": [
  {
   "cell_type": "code",
   "execution_count": null,
   "metadata": {},
   "outputs": [],
   "source": [
    "%load_ext sql\n",
    "import configparser"
   ]
  },
  {
   "cell_type": "code",
   "execution_count": null,
   "metadata": {},
   "outputs": [],
   "source": [
    "config = configparser.ConfigParser()\n",
    "config.read_file(open('dwh.cfg'))\n",
    "KEY=config.get('AWS','key')\n",
    "SECRET= config.get('AWS','secret')\n",
    "\n",
    "DWH_ENDPOINT= config.get('CLUSTER', 'HOST')\n",
    "\n",
    "DWH_DB= config.get(\"DWH\",\"DWH_DB\")\n",
    "DWH_DB_USER= config.get(\"DWH\",\"DWH_DB_USER\")\n",
    "DWH_DB_PASSWORD= config.get(\"DWH\",\"DWH_DB_PASSWORD\")\n",
    "DWH_PORT = config.get(\"DWH\",\"DWH_PORT\")"
   ]
  },
  {
   "cell_type": "code",
   "execution_count": null,
   "metadata": {},
   "outputs": [],
   "source": [
    "import os \n",
    "conn_string=\"postgresql://{}:{}@{}:{}/{}\".format(DWH_DB_USER, DWH_DB_PASSWORD, DWH_ENDPOINT, DWH_PORT,DWH_DB)\n",
    "print(conn_string)\n",
    "%sql $conn_string\n"
   ]
  },
  {
   "cell_type": "code",
   "execution_count": null,
   "metadata": {},
   "outputs": [],
   "source": [
    "query = \"\"\"\n",
    "    Select count(*)\n",
    "    FROM staging_events;\"\"\"\n",
    "\n",
    "%sql $query"
   ]
  },
  {
   "cell_type": "code",
   "execution_count": null,
   "metadata": {},
   "outputs": [],
   "source": [
    "query = \"\"\"\n",
    "    Select count(*)\n",
    "    From staging_songs;\"\"\"\n",
    "\n",
    "%sql $query"
   ]
  },
  {
   "cell_type": "code",
   "execution_count": null,
   "metadata": {},
   "outputs": [],
   "source": [
    "\n",
    "query = \"\"\"\n",
    "     select user_id, first_name, last_name\n",
    "     from users\n",
    "     limit 10;\n",
    "\"\"\"\n",
    "\n",
    "%sql $query"
   ]
  },
  {
   "cell_type": "code",
   "execution_count": null,
   "metadata": {},
   "outputs": [],
   "source": [
    "query = \"\"\"\n",
    "    select count(*)\n",
    "    from users;\n",
    "    \"\"\"\n",
    "%sql $query"
   ]
  },
  {
   "cell_type": "code",
   "execution_count": null,
   "metadata": {},
   "outputs": [],
   "source": [
    "query = \"\"\"\n",
    "    select count(*)\n",
    "    from song;\"\"\"\n",
    "\n",
    "%sql $query"
   ]
  },
  {
   "cell_type": "code",
   "execution_count": null,
   "metadata": {},
   "outputs": [],
   "source": [
    "query = \"\"\"\n",
    "    select count(*)\n",
    "    from artist;\"\"\"\n",
    "\n",
    "%sql $query"
   ]
  },
  {
   "cell_type": "code",
   "execution_count": null,
   "metadata": {},
   "outputs": [],
   "source": [
    "query = \"\"\"\n",
    "    select count(*)\n",
    "    from songplay;\"\"\"\n",
    "\n",
    "%sql $query"
   ]
  },
  {
   "cell_type": "code",
   "execution_count": null,
   "metadata": {},
   "outputs": [],
   "source": [
    "query = \"\"\"\n",
    "    SELECT title, duration\n",
    "    FROM song\n",
    "    order by duration desc\n",
    "    limit 10;\"\"\"\n",
    "\n",
    "%sql $query"
   ]
  },
  {
   "cell_type": "code",
   "execution_count": null,
   "metadata": {},
   "outputs": [],
   "source": [
    "query = \"\"\"\n",
    "    select a.artist_name, s.title, s.duration\n",
    "    from artist a\n",
    "    JOIN song s on (a.artist_id = s.artist_id)\n",
    "    ORDER BY s.duration DESC\n",
    "    limit 15;\"\"\"\n",
    "\n",
    "%sql $query"
   ]
  },
  {
   "cell_type": "code",
   "execution_count": null,
   "metadata": {},
   "outputs": [],
   "source": [
    "query = \"\"\"\n",
    "    select count(*)\n",
    "    from artist;\"\"\"\n",
    "\n",
    "%sql $query"
   ]
  },
  {
   "cell_type": "code",
   "execution_count": null,
   "metadata": {},
   "outputs": [],
   "source": [
    "query = \"\"\"\n",
    "    SELECT t.weekday, count(s.songplay_id) as number_of_listens_each_day\n",
    "    from time t\n",
    "    JOIN songplay s on (t.start_time = s.start_time)\n",
    "    group by t.weekday\n",
    "    order by number_of_listens_each_day DESC;\"\"\"\n",
    "\n",
    "%sql $query"
   ]
  },
  {
   "cell_type": "code",
   "execution_count": null,
   "metadata": {},
   "outputs": [],
   "source": [
    "query = \"\"\"\n",
    " SELECT t.weekday, s.title, count(s.song_id) as number_of_listens\n",
    " from time t\n",
    " JOIN songplay sp on (t.start_time = sp.start_time)\n",
    " JOIN song s on (sp.song_id = s.song_id)\n",
    " GROUP BY t.weekday, s.title\n",
    " ORDER BY number_of_listens DESC\n",
    " LIMIT 10;\"\"\"\n",
    "\n",
    "%sql $query"
   ]
  },
  {
   "cell_type": "code",
   "execution_count": null,
   "metadata": {},
   "outputs": [],
   "source": []
  }
 ],
 "metadata": {
  "kernelspec": {
   "display_name": "Python 3",
   "language": "python",
   "name": "python3"
  },
  "language_info": {
   "codemirror_mode": {
    "name": "ipython",
    "version": 3
   },
   "file_extension": ".py",
   "mimetype": "text/x-python",
   "name": "python",
   "nbconvert_exporter": "python",
   "pygments_lexer": "ipython3",
   "version": "3.8.2"
  }
 },
 "nbformat": 4,
 "nbformat_minor": 4
}
